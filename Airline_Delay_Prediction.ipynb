{
  "nbformat": 4,
  "nbformat_minor": 0,
  "metadata": {
    "colab": {
      "provenance": []
    },
    "kernelspec": {
      "name": "python3",
      "display_name": "Python 3"
    },
    "language_info": {
      "name": "python"
    }
  },
  "cells": [
    {
      "cell_type": "markdown",
      "source": [
        "## **AIRLINE DELAY PREDICTION**"
      ],
      "metadata": {
        "id": "ULpeov9895mo"
      }
    },
    {
      "cell_type": "markdown",
      "source": [
        "Flight delays are a significant challenge in the aviation industry, affecting millions of passengers worldwide. Delays lead to financial losses for airlines, disrupt passengers' travel plans, and strain airport operations. Predicting flight delays ahead of time can help:\n",
        "\n",
        "1. Improve Operational Efficiency: Airlines can proactively adjust schedules, allocate resources, and minimize disruptions.\n",
        "2. Enhance Passenger Experience: Timely delay information allows passengers to make alternative plans and reduces frustration.\n",
        "3. Optimize Airline Costs: Avoiding cascading delays saves costs associated with fuel, crew, and airport penalties.\n",
        "4. Support Airport Management: Airports can use predictions to optimize gate assignments and manage traffic more effectively.\n",
        "\n",
        "In a fast-paced world, predictive models based on historical data and advanced machine learning techniques offer a transformative approach to solving this recurring problem."
      ],
      "metadata": {
        "id": "D54dPUOO-xWN"
      }
    },
    {
      "cell_type": "markdown",
      "source": [
        "##### **INTRODUCTION**\n",
        "\n",
        "This project focuses on predicting flight delays using historical flight data. By analyzing key factors such as departure times, flight lengths, airlines, and routes, the project aims to build a machine learning model that can classify whether a flight will be delayed or not. The outcome will help airlines and passengers make informed decisions.\n",
        "\n",
        "   **Steps Involved:**\n",
        "1. **Understanding the Problem:**\n",
        "\n",
        "The goal is to classify flights as either delayed (1) or not delayed (0).\n",
        "Identify key factors contributing to delays, such as time of departure, airline performance, and routes.\n",
        "\n",
        "2. **Data Preprocessing:**\n",
        "\n",
        "Handle missing data, encode categorical variables (e.g., airline names, airport codes), and scale numerical features.\n",
        "Feature engineering to create new variables like time buckets, seasonality, and historical delay trends.\n",
        "\n",
        "3. **Exploratory Data Analysis (EDA):**\n",
        "\n",
        "Identify patterns and trends in the dataset.\n",
        "Visualize delay distributions, delays by airline, and other important relationships using graphs.\n",
        "\n",
        "4. **Model Selection:**\n",
        "\n",
        "Train and evaluate multiple machine learning models, such as:\n",
        "Random Forest\n",
        "Logistic Regression\n",
        "XGBoost\n",
        "LightGBM\n"
      ],
      "metadata": {
        "id": "61o0d2dI_l-D"
      }
    },
    {
      "cell_type": "code",
      "execution_count": null,
      "metadata": {
        "id": "GADz3tN2nudr"
      },
      "outputs": [],
      "source": [
        "import pandas as pd\n",
        "import numpy as np\n",
        "import matplotlib.pyplot as plt\n",
        "import seaborn as sns\n",
        "from sklearn.model_selection import train_test_split\n",
        "from sklearn.preprocessing import LabelEncoder, StandardScaler\n",
        "from sklearn.ensemble import RandomForestClassifier\n",
        "from sklearn.metrics import classification_report, confusion_matrix, roc_auc_score\n"
      ]
    },
    {
      "cell_type": "code",
      "source": [
        "df=pd.read_csv('Airlines.csv')"
      ],
      "metadata": {
        "id": "B_PSl5Bin3V3"
      },
      "execution_count": null,
      "outputs": []
    },
    {
      "cell_type": "code",
      "source": [
        "# Check for null values\n",
        "print(df.isnull().sum())\n",
        "\n",
        "# Check data types\n",
        "print(df.info())\n",
        "\n",
        "# Describe numerical features\n",
        "print(df.describe())\n",
        "\n"
      ],
      "metadata": {
        "colab": {
          "base_uri": "https://localhost:8080/"
        },
        "id": "uPCjLMyOoCZ5",
        "outputId": "7a6910c4-02ac-4d39-a340-280404ebdba6"
      },
      "execution_count": null,
      "outputs": [
        {
          "output_type": "stream",
          "name": "stdout",
          "text": [
            "Airline        0\n",
            "Flight         0\n",
            "AirportFrom    0\n",
            "AirportTo      0\n",
            "DayOfWeek      0\n",
            "Time           0\n",
            "Length         0\n",
            "Delay          0\n",
            "dtype: int64\n",
            "<class 'pandas.core.frame.DataFrame'>\n",
            "RangeIndex: 539383 entries, 0 to 539382\n",
            "Data columns (total 8 columns):\n",
            " #   Column       Non-Null Count   Dtype  \n",
            "---  ------       --------------   -----  \n",
            " 0   Airline      539383 non-null  int64  \n",
            " 1   Flight       539383 non-null  int64  \n",
            " 2   AirportFrom  539383 non-null  int64  \n",
            " 3   AirportTo    539383 non-null  int64  \n",
            " 4   DayOfWeek    539383 non-null  int64  \n",
            " 5   Time         539383 non-null  float64\n",
            " 6   Length       539383 non-null  float64\n",
            " 7   Delay        539383 non-null  int64  \n",
            "dtypes: float64(2), int64(6)\n",
            "memory usage: 32.9 MB\n",
            "None\n",
            "             Airline         Flight    AirportFrom      AirportTo  \\\n",
            "count  539383.000000  539383.000000  539383.000000  539383.000000   \n",
            "mean        9.334527    2427.928630     144.116322     144.143162   \n",
            "std         5.306368    2067.429837      79.379776      79.353137   \n",
            "min         0.000000       1.000000       0.000000       0.000000   \n",
            "25%         5.000000     712.000000      79.000000      79.000000   \n",
            "50%        10.000000    1809.000000     153.000000     153.000000   \n",
            "75%        15.000000    3745.000000     208.000000     208.000000   \n",
            "max        17.000000    7814.000000     292.000000     292.000000   \n",
            "\n",
            "           DayOfWeek          Time        Length          Delay  \n",
            "count  539383.000000  5.393830e+05  5.393830e+05  539383.000000  \n",
            "mean        3.929668 -6.238851e-17  3.266966e-18       0.445442  \n",
            "std         1.914664  1.000001e+00  1.000001e+00       0.497015  \n",
            "min         1.000000 -2.851075e+00 -1.885450e+00       0.000000  \n",
            "25%         2.000000 -8.549997e-01 -7.302372e-01       0.000000  \n",
            "50%         4.000000 -2.779746e-02 -2.453331e-01       0.000000  \n",
            "75%         5.000000  8.353701e-01  4.249756e-01       1.000000  \n",
            "max         7.000000  2.288369e+00  7.456086e+00       1.000000  \n"
          ]
        }
      ]
    },
    {
      "cell_type": "markdown",
      "source": [
        "**Overview of Delay Distribution:**\n",
        "\n",
        "1. The bar plot shows the distribution of flights categorized as either delayed (1) or not delayed (0).\n",
        "There are more flights categorized as \"No Delay\" than those categorized as \"Delayed.\"\n",
        "\n",
        "2. A significant number of flights are not delayed, with the count exceeding 300,000.\n",
        "Flights with delays are fewer, with the count around 200,000, indicating that delayed flights are less common."
      ],
      "metadata": {
        "id": "tAuLEde4AxD2"
      }
    },
    {
      "cell_type": "code",
      "source": [
        "plt.figure(figsize=(8, 6))\n",
        "sns.countplot(x='Delay', data=df, palette='viridis')\n",
        "plt.title('Distribution of Flight Delays')\n",
        "plt.xlabel('Delay (0 = No Delay, 1 = Delayed)')\n",
        "plt.ylabel('Count')\n",
        "plt.xticks([0, 1], ['No Delay', 'Delayed'])\n",
        "plt.show()"
      ],
      "metadata": {
        "colab": {
          "base_uri": "https://localhost:8080/",
          "height": 651
        },
        "id": "Cro2mB2f9Tfm",
        "outputId": "aa006fb7-a8e7-453d-c6e4-206b79a8614a"
      },
      "execution_count": null,
      "outputs": [
        {
          "output_type": "stream",
          "name": "stderr",
          "text": [
            "<ipython-input-37-124e73671114>:2: FutureWarning: \n",
            "\n",
            "Passing `palette` without assigning `hue` is deprecated and will be removed in v0.14.0. Assign the `x` variable to `hue` and set `legend=False` for the same effect.\n",
            "\n",
            "  sns.countplot(x='Delay', data=df, palette='viridis')\n"
          ]
        },
        {
          "output_type": "display_data",
          "data": {
            "text/plain": [
              "<Figure size 800x600 with 1 Axes>"
            ],
            "image/png": "[encoded data removed]"
          },
          "metadata": {}
        }
      ]
    },
    {
      "cell_type": "markdown",
      "source": [
        "**Inference from the Box Plot: Flight Length vs Delay**\n",
        "\n",
        "\n",
        "1. **Overview of Flight Length Distribution:**\n",
        "The box plot compares the distribution of flight lengths for flights that are not delayed (0) and delayed (1).\n",
        "Both categories have similar median flight lengths, indicating that flight duration does not vary drastically between delayed and non-delayed flights.\n",
        "\n",
        "2. **Spread of Flight Lengths**: The interquartile range (IQR) for both categories is almost identical, with most flight lengths concentrated within the same range.\n",
        "The presence of outliers in both groups indicates a small number of exceptionally long flights.\n",
        "\n",
        "3. **Notable Observations:** Delayed flights (1) have slightly more outliers with longer flight lengths compared to non-delayed flights.\n",
        "While the average flight length is similar across both categories, the presence of longer flights might contribute to delays.\n",
        "Impact on Analysis:\n",
        "\n",
        "  Since flight length alone does not strongly differentiate delayed flights from non-delayed ones, this feature might have limited predictive power unless combined with other features (e.g., airline, time of day).\n",
        "Further exploration is needed to determine if certain airlines or routes have longer flights that are more prone to delays."
      ],
      "metadata": {
        "id": "WjvOkogEBRMU"
      }
    },
    {
      "cell_type": "code",
      "source": [
        "plt.figure(figsize=(8, 6))\n",
        "sns.boxplot(x='Delay', y='Length', data=df, palette='coolwarm')\n",
        "plt.title('Flight Length vs Delay')\n",
        "plt.xlabel('Delay (0 = No Delay, 1 = Delayed)')\n",
        "plt.ylabel('Flight Length (Minutes)')\n",
        "plt.xticks([0, 1], ['No Delay', 'Delayed'])\n",
        "plt.show()"
      ],
      "metadata": {
        "colab": {
          "base_uri": "https://localhost:8080/",
          "height": 651
        },
        "id": "y1d1ao4y9ZDh",
        "outputId": "3ab1e914-eac9-47fd-fe17-c94d8aa56297"
      },
      "execution_count": null,
      "outputs": [
        {
          "output_type": "stream",
          "name": "stderr",
          "text": [
            "<ipython-input-39-55508c22fa5e>:2: FutureWarning: \n",
            "\n",
            "Passing `palette` without assigning `hue` is deprecated and will be removed in v0.14.0. Assign the `x` variable to `hue` and set `legend=False` for the same effect.\n",
            "\n",
            "  sns.boxplot(x='Delay', y='Length', data=df, palette='coolwarm')\n"
          ]
        },
        {
          "output_type": "display_data",
          "data": {
            "text/plain": [
              "<Figure size 800x600 with 1 Axes>"
            ],
            "image/png": "[encoded data removed]"
          },
          "metadata": {}
        }
      ]
    },
    {
      "cell_type": "markdown",
      "source": [
        "**Inference from the Bar Plot: Delays by Airline**\n",
        "\n",
        "1. Overview of Airline Delays: The bar plot shows the distribution of delayed (1) and non-delayed (0) flights across different airlines.\n",
        "The count of delays varies significantly across airlines, indicating that some airlines experience more delays than others.\n",
        "\n",
        "2. Airlines with High Delays: Airlines such as WN and DL have a relatively high count of delayed flights compared to others.\n",
        "WN in particular has the highest overall flight count, with a significant proportion being delays.\n",
        "\n",
        "3. Airlines with Low Delays: Airlines such as HA, FL, and MQ have fewer total flights, and the delays are relatively low.\n",
        "These airlines may operate in regions or under conditions less prone to delays.\n",
        "\n",
        "4. Comparison of Delayed vs Non-Delayed Flights: Some airlines, such as AA and DL, show a more balanced distribution of delays and non-delays.\n",
        "For airlines like WN, non-delayed flights significantly outnumber delayed flights, but the absolute number of delays is still the highest.\n",
        "\n",
        "5. Impact on Analysis: Airline appears to be a strong feature for predicting delays, as there is clear variation in delay counts across airlines.\n",
        "Further investigation into airline-specific factors (e.g., routes, operational efficiency) could provide deeper insights into delay causes.\n"
      ],
      "metadata": {
        "id": "tWuy6J6mC7p1"
      }
    },
    {
      "cell_type": "code",
      "source": [
        "# Analyze delays by Airline\n",
        "sns.countplot(x='Airline', hue='Delay', data=df)\n",
        "plt.title('Delays by Airline')\n",
        "plt.show()\n",
        "\n"
      ],
      "metadata": {
        "colab": {
          "base_uri": "https://localhost:8080/",
          "height": 472
        },
        "id": "fzYyDy40ohxg",
        "outputId": "1debcfc9-778c-4072-da16-5ecf85cf29ed"
      },
      "execution_count": null,
      "outputs": [
        {
          "output_type": "display_data",
          "data": {
            "text/plain": [
              "<Figure size 640x480 with 1 Axes>"
            ],
            "image/png": "[encoded data removed]"
          },
          "metadata": {}
        }
      ]
    },
    {
      "cell_type": "markdown",
      "source": [
        "**Inference from the Box Plot: Delays by Time of Day**\n",
        "1. **Overview of Time Distribution:**\n",
        "The box plot compares the distribution of flight departure times for non-delayed (0) and delayed (1) flights.\n",
        "The distributions are fairly similar, with the median departure times close to each other in both cases.\n",
        "\n",
        "2. **Key Observations: Median Time:**\n",
        "Both delayed and non-delayed flights tend to depart around the same time, approximately between 600 and 800 units (likely early morning to mid-morning).\n",
        "\n",
        "3. **Spread:**\n",
        "The interquartile range (IQR) is similar for both categories, suggesting that time of day has a consistent effect on both delayed and non-delayed flights.\n",
        "\n",
        "4. **Outliers:**\n",
        "There are some flights departing at unusual times (early or late), which could indicate operational or scheduling anomalies.\n",
        "\n",
        "5. **Time of Day Influence**:There is no significant difference in flight delay patterns based on departure times. However, slight variations may exist during peak hours.\n",
        "Delayed flights show slightly more variation in departure times, but the difference is not substantial.\n",
        "6. **Impact on Modeling:** While time of day does not seem to be a strong standalone predictor of delays, combining it with other features like airline, route, or weather conditions may reveal more useful patterns.\n",
        "Further segmentation of time into buckets (e.g., Morning, Afternoon, Evening) could provide additional insights.\n"
      ],
      "metadata": {
        "id": "1adC7M-_EVt8"
      }
    },
    {
      "cell_type": "code",
      "source": [
        "# Analyze delays by Time of Day\n",
        "sns.boxplot(x='Delay', y='Time', data=df)\n",
        "plt.title('Delays by Time of Day')\n",
        "plt.show()"
      ],
      "metadata": {
        "colab": {
          "base_uri": "https://localhost:8080/",
          "height": 472
        },
        "id": "NjssrehVEHGq",
        "outputId": "6bbb6770-f6d3-4207-f4a5-f879447e41ae"
      },
      "execution_count": null,
      "outputs": [
        {
          "output_type": "display_data",
          "data": {
            "text/plain": [
              "<Figure size 640x480 with 1 Axes>"
            ],
            "image/png": "[encoded data removed]"
          },
          "metadata": {}
        }
      ]
    },
    {
      "cell_type": "markdown",
      "source": [
        "### Encode Categorical Variables\n",
        "- **Objective**: Convert categorical variables (`Airline`, `AirportFrom`, `AirportTo`) into numeric values so they can be used in machine learning models.\n",
        "- **Implementation**:\n",
        "  - Use `LabelEncoder` to assign a unique integer to each category in the columns.\n",
        "  - Store the encoders in a dictionary (`label_encoders`) to inverse transform or reuse later.\n"
      ],
      "metadata": {
        "id": "rNtfq1usF0Pb"
      }
    },
    {
      "cell_type": "code",
      "source": [
        "# Encode categorical columns using LabelEncoder\n",
        "label_encoders = {}\n",
        "categorical_cols = ['Airline', 'AirportFrom', 'AirportTo']\n",
        "\n",
        "for col in categorical_cols:\n",
        "    le = LabelEncoder()\n",
        "    df[col] = le.fit_transform(df[col])\n",
        "    label_encoders[col] = le\n"
      ],
      "metadata": {
        "id": "JnwOXrDTo1mS"
      },
      "execution_count": null,
      "outputs": []
    },
    {
      "cell_type": "markdown",
      "source": [
        "### Standardize Numerical Features\n",
        "- **Objective**: Scale numerical columns (`Time`, `Length`) to have a mean of 0 and a standard deviation of 1.\n",
        "- **Why?**:\n",
        "  - Standardization ensures all numerical features contribute equally to the model and avoids dominance of features with large values.\n",
        "- **Implementation**:\n",
        "  - Use `StandardScaler` from `sklearn` to standardize the numerical columns.\n"
      ],
      "metadata": {
        "id": "44pSrfOoF-xz"
      }
    },
    {
      "cell_type": "code",
      "source": [
        "scaler = StandardScaler()\n",
        "df[['Time', 'Length']] = scaler.fit_transform(df[['Time', 'Length']])\n"
      ],
      "metadata": {
        "id": "QZvmOs2Uo5kO"
      },
      "execution_count": null,
      "outputs": []
    },
    {
      "cell_type": "markdown",
      "source": [
        "### Drop Irrelevant Features\n",
        "- **Objective**: Remove the `id` column if it exists, as it does not contain useful information for prediction.\n",
        "- **Why?**:\n",
        "  - Including non-informative columns like `id` can introduce noise and degrade the model's performance.\n",
        "- **Implementation**:\n",
        "  - Use `df.drop()` to remove the `id` column in-place.\n"
      ],
      "metadata": {
        "id": "uSjMAsGvGHAD"
      }
    },
    {
      "cell_type": "code",
      "source": [
        "# Drop 'id' column if it exists\n",
        "if 'id' in df.columns:\n",
        "    df.drop('id', axis=1, inplace=True)\n"
      ],
      "metadata": {
        "id": "ssnikTS4o9Ti"
      },
      "execution_count": null,
      "outputs": []
    },
    {
      "cell_type": "markdown",
      "source": [
        "### Split Data into Features (`X`) and Target (`y`)\n",
        "- **Objective**: Separate the dataset into independent variables (`X`) and the target variable (`y`).\n",
        "- **Steps**:\n",
        "  - `X`: All columns except the `Delay` column (target variable).\n",
        "  - `y`: The `Delay` column, which represents whether a flight is delayed (`1`) or not delayed (`0`).\n"
      ],
      "metadata": {
        "id": "dR3UW-KvGbt2"
      }
    },
    {
      "cell_type": "code",
      "source": [
        "# Split data into features and target\n",
        "X = df.drop('Delay', axis=1)\n",
        "y = df['Delay']\n",
        "\n",
        "# Train-test split\n",
        "X_train, X_test, y_train, y_test = train_test_split(X, y, test_size=0.2, random_state=42)\n"
      ],
      "metadata": {
        "id": "W_Ti08JipCmy"
      },
      "execution_count": null,
      "outputs": []
    },
    {
      "cell_type": "markdown",
      "source": [
        "### Initialize Random Forest Model\n",
        "- **Objective**: Use a Random Forest Classifier for predicting flight delays.\n",
        "- **Why Random Forest?**\n",
        "  - Random Forest is a robust ensemble model that combines multiple decision trees to reduce overfitting and improve accuracy.\n",
        "  - It is well-suited for handling structured data and works effectively with both classification and regression problems.\n",
        "- **Implementation**:\n",
        "  - Set `n_estimators=100`: This defines the number of decision trees in the forest.\n",
        "  - Set `random_state=42`: Ensures reproducibility of the results.\n"
      ],
      "metadata": {
        "id": "yWYzLSD6G11e"
      }
    },
    {
      "cell_type": "code",
      "source": [
        "# Initialize Random Forest\n",
        "rf_model = RandomForestClassifier(n_estimators=100, random_state=42)\n",
        "\n",
        "# Train the model\n",
        "rf_model.fit(X_train, y_train)\n"
      ],
      "metadata": {
        "colab": {
          "base_uri": "https://localhost:8080/",
          "height": 80
        },
        "id": "YvY9zo1SpIoz",
        "outputId": "3df6e4f0-2ad3-40ae-8cc1-ac51cf107438"
      },
      "execution_count": null,
      "outputs": [
        {
          "output_type": "execute_result",
          "data": {
            "text/plain": [
              "RandomForestClassifier(random_state=42)"
            ],
            "text/html": [
              "<style>#sk-container-id-1 {\n",
              "  /* Definition of color scheme common for light and dark mode */\n",
              "  --sklearn-color-text: #000;\n",
              "  --sklearn-color-text-muted: #666;\n",
              "  --sklearn-color-line: gray;\n",
              "  /* Definition of color scheme for unfitted estimators */\n",
              "  --sklearn-color-unfitted-level-0: #fff5e6;\n",
              "  --sklearn-color-unfitted-level-1: #f6e4d2;\n",
              "  --sklearn-color-unfitted-level-2: #ffe0b3;\n",
              "  --sklearn-color-unfitted-level-3: chocolate;\n",
              "  /* Definition of color scheme for fitted estimators */\n",
              "  --sklearn-color-fitted-level-0: #f0f8ff;\n",
              "  --sklearn-color-fitted-level-1: #d4ebff;\n",
              "  --sklearn-color-fitted-level-2: #b3dbfd;\n",
              "  --sklearn-color-fitted-level-3: cornflowerblue;\n",
              "\n",
              "  /* Specific color for light theme */\n",
              "  --sklearn-color-text-on-default-background: var(--sg-text-color, var(--theme-code-foreground, var(--jp-content-font-color1, black)));\n",
              "  --sklearn-color-background: var(--sg-background-color, var(--theme-background, var(--jp-layout-color0, white)));\n",
              "  --sklearn-color-border-box: var(--sg-text-color, var(--theme-code-foreground, var(--jp-content-font-color1, black)));\n",
              "  --sklearn-color-icon: #696969;\n",
              "\n",
              "  @media (prefers-color-scheme: dark) {\n",
              "    /* Redefinition of color scheme for dark theme */\n",
              "    --sklearn-color-text-on-default-background: var(--sg-text-color, var(--theme-code-foreground, var(--jp-content-font-color1, white)));\n",
              "    --sklearn-color-background: var(--sg-background-color, var(--theme-background, var(--jp-layout-color0, #111)));\n",
              "    --sklearn-color-border-box: var(--sg-text-color, var(--theme-code-foreground, var(--jp-content-font-color1, white)));\n",
              "    --sklearn-color-icon: #878787;\n",
              "  }\n",
              "}\n",
              "\n",
              "#sk-container-id-1 {\n",
              "  color: var(--sklearn-color-text);\n",
              "}\n",
              "\n",
              "#sk-container-id-1 pre {\n",
              "  padding: 0;\n",
              "}\n",
              "\n",
              "#sk-container-id-1 input.sk-hidden--visually {\n",
              "  border: 0;\n",
              "  clip: rect(1px 1px 1px 1px);\n",
              "  clip: rect(1px, 1px, 1px, 1px);\n",
              "  height: 1px;\n",
              "  margin: -1px;\n",
              "  overflow: hidden;\n",
              "  padding: 0;\n",
              "  position: absolute;\n",
              "  width: 1px;\n",
              "}\n",
              "\n",
              "#sk-container-id-1 div.sk-dashed-wrapped {\n",
              "  border: 1px dashed var(--sklearn-color-line);\n",
              "  margin: 0 0.4em 0.5em 0.4em;\n",
              "  box-sizing: border-box;\n",
              "  padding-bottom: 0.4em;\n",
              "  background-color: var(--sklearn-color-background);\n",
              "}\n",
              "\n",
              "#sk-container-id-1 div.sk-container {\n",
              "  /* jupyter's `normalize.less` sets `[hidden] { display: none; }`\n",
              "     but bootstrap.min.css set `[hidden] { display: none !important; }`\n",
              "     so we also need the `!important` here to be able to override the\n",
              "     default hidden behavior on the sphinx rendered scikit-learn.org.\n",
              "     See: https://github.com/scikit-learn/scikit-learn/issues/21755 */\n",
              "  display: inline-block !important;\n",
              "  position: relative;\n",
              "}\n",
              "\n",
              "#sk-container-id-1 div.sk-text-repr-fallback {\n",
              "  display: none;\n",
              "}\n",
              "\n",
              "div.sk-parallel-item,\n",
              "div.sk-serial,\n",
              "div.sk-item {\n",
              "  /* draw centered vertical line to link estimators */\n",
              "  background-image: linear-gradient(var(--sklearn-color-text-on-default-background), var(--sklearn-color-text-on-default-background));\n",
              "  background-size: 2px 100%;\n",
              "  background-repeat: no-repeat;\n",
              "  background-position: center center;\n",
              "}\n",
              "\n",
              "/* Parallel-specific style estimator block */\n",
              "\n",
              "#sk-container-id-1 div.sk-parallel-item::after {\n",
              "  content: \"\";\n",
              "  width: 100%;\n",
              "  border-bottom: 2px solid var(--sklearn-color-text-on-default-background);\n",
              "  flex-grow: 1;\n",
              "}\n",
              "\n",
              "#sk-container-id-1 div.sk-parallel {\n",
              "  display: flex;\n",
              "  align-items: stretch;\n",
              "  justify-content: center;\n",
              "  background-color: var(--sklearn-color-background);\n",
              "  position: relative;\n",
              "}\n",
              "\n",
              "#sk-container-id-1 div.sk-parallel-item {\n",
              "  display: flex;\n",
              "  flex-direction: column;\n",
              "}\n",
              "\n",
              "#sk-container-id-1 div.sk-parallel-item:first-child::after {\n",
              "  align-self: flex-end;\n",
              "  width: 50%;\n",
              "}\n",
              "\n",
              "#sk-container-id-1 div.sk-parallel-item:last-child::after {\n",
              "  align-self: flex-start;\n",
              "  width: 50%;\n",
              "}\n",
              "\n",
              "#sk-container-id-1 div.sk-parallel-item:only-child::after {\n",
              "  width: 0;\n",
              "}\n",
              "\n",
              "/* Serial-specific style estimator block */\n",
              "\n",
              "#sk-container-id-1 div.sk-serial {\n",
              "  display: flex;\n",
              "  flex-direction: column;\n",
              "  align-items: center;\n",
              "  background-color: var(--sklearn-color-background);\n",
              "  padding-right: 1em;\n",
              "  padding-left: 1em;\n",
              "}\n",
              "\n",
              "\n",
              "/* Toggleable style: style used for estimator/Pipeline/ColumnTransformer box that is\n",
              "clickable and can be expanded/collapsed.\n",
              "- Pipeline and ColumnTransformer use this feature and define the default style\n",
              "- Estimators will overwrite some part of the style using the `sk-estimator` class\n",
              "*/\n",
              "\n",
              "/* Pipeline and ColumnTransformer style (default) */\n",
              "\n",
              "#sk-container-id-1 div.sk-toggleable {\n",
              "  /* Default theme specific background. It is overwritten whether we have a\n",
              "  specific estimator or a Pipeline/ColumnTransformer */\n",
              "  background-color: var(--sklearn-color-background);\n",
              "}\n",
              "\n",
              "/* Toggleable label */\n",
              "#sk-container-id-1 label.sk-toggleable__label {\n",
              "  cursor: pointer;\n",
              "  display: flex;\n",
              "  width: 100%;\n",
              "  margin-bottom: 0;\n",
              "  padding: 0.5em;\n",
              "  box-sizing: border-box;\n",
              "  text-align: center;\n",
              "  align-items: start;\n",
              "  justify-content: space-between;\n",
              "  gap: 0.5em;\n",
              "}\n",
              "\n",
              "#sk-container-id-1 label.sk-toggleable__label .caption {\n",
              "  font-size: 0.6rem;\n",
              "  font-weight: lighter;\n",
              "  color: var(--sklearn-color-text-muted);\n",
              "}\n",
              "\n",
              "#sk-container-id-1 label.sk-toggleable__label-arrow:before {\n",
              "  /* Arrow on the left of the label */\n",
              "  content: \"▸\";\n",
              "  float: left;\n",
              "  margin-right: 0.25em;\n",
              "  color: var(--sklearn-color-icon);\n",
              "}\n",
              "\n",
              "#sk-container-id-1 label.sk-toggleable__label-arrow:hover:before {\n",
              "  color: var(--sklearn-color-text);\n",
              "}\n",
              "\n",
              "/* Toggleable content - dropdown */\n",
              "\n",
              "#sk-container-id-1 div.sk-toggleable__content {\n",
              "  max-height: 0;\n",
              "  max-width: 0;\n",
              "  overflow: hidden;\n",
              "  text-align: left;\n",
              "  /* unfitted */\n",
              "  background-color: var(--sklearn-color-unfitted-level-0);\n",
              "}\n",
              "\n",
              "#sk-container-id-1 div.sk-toggleable__content.fitted {\n",
              "  /* fitted */\n",
              "  background-color: var(--sklearn-color-fitted-level-0);\n",
              "}\n",
              "\n",
              "#sk-container-id-1 div.sk-toggleable__content pre {\n",
              "  margin: 0.2em;\n",
              "  border-radius: 0.25em;\n",
              "  color: var(--sklearn-color-text);\n",
              "  /* unfitted */\n",
              "  background-color: var(--sklearn-color-unfitted-level-0);\n",
              "}\n",
              "\n",
              "#sk-container-id-1 div.sk-toggleable__content.fitted pre {\n",
              "  /* unfitted */\n",
              "  background-color: var(--sklearn-color-fitted-level-0);\n",
              "}\n",
              "\n",
              "#sk-container-id-1 input.sk-toggleable__control:checked~div.sk-toggleable__content {\n",
              "  /* Expand drop-down */\n",
              "  max-height: 200px;\n",
              "  max-width: 100%;\n",
              "  overflow: auto;\n",
              "}\n",
              "\n",
              "#sk-container-id-1 input.sk-toggleable__control:checked~label.sk-toggleable__label-arrow:before {\n",
              "  content: \"▾\";\n",
              "}\n",
              "\n",
              "/* Pipeline/ColumnTransformer-specific style */\n",
              "\n",
              "#sk-container-id-1 div.sk-label input.sk-toggleable__control:checked~label.sk-toggleable__label {\n",
              "  color: var(--sklearn-color-text);\n",
              "  background-color: var(--sklearn-color-unfitted-level-2);\n",
              "}\n",
              "\n",
              "#sk-container-id-1 div.sk-label.fitted input.sk-toggleable__control:checked~label.sk-toggleable__label {\n",
              "  background-color: var(--sklearn-color-fitted-level-2);\n",
              "}\n",
              "\n",
              "/* Estimator-specific style */\n",
              "\n",
              "/* Colorize estimator box */\n",
              "#sk-container-id-1 div.sk-estimator input.sk-toggleable__control:checked~label.sk-toggleable__label {\n",
              "  /* unfitted */\n",
              "  background-color: var(--sklearn-color-unfitted-level-2);\n",
              "}\n",
              "\n",
              "#sk-container-id-1 div.sk-estimator.fitted input.sk-toggleable__control:checked~label.sk-toggleable__label {\n",
              "  /* fitted */\n",
              "  background-color: var(--sklearn-color-fitted-level-2);\n",
              "}\n",
              "\n",
              "#sk-container-id-1 div.sk-label label.sk-toggleable__label,\n",
              "#sk-container-id-1 div.sk-label label {\n",
              "  /* The background is the default theme color */\n",
              "  color: var(--sklearn-color-text-on-default-background);\n",
              "}\n",
              "\n",
              "/* On hover, darken the color of the background */\n",
              "#sk-container-id-1 div.sk-label:hover label.sk-toggleable__label {\n",
              "  color: var(--sklearn-color-text);\n",
              "  background-color: var(--sklearn-color-unfitted-level-2);\n",
              "}\n",
              "\n",
              "/* Label box, darken color on hover, fitted */\n",
              "#sk-container-id-1 div.sk-label.fitted:hover label.sk-toggleable__label.fitted {\n",
              "  color: var(--sklearn-color-text);\n",
              "  background-color: var(--sklearn-color-fitted-level-2);\n",
              "}\n",
              "\n",
              "/* Estimator label */\n",
              "\n",
              "#sk-container-id-1 div.sk-label label {\n",
              "  font-family: monospace;\n",
              "  font-weight: bold;\n",
              "  display: inline-block;\n",
              "  line-height: 1.2em;\n",
              "}\n",
              "\n",
              "#sk-container-id-1 div.sk-label-container {\n",
              "  text-align: center;\n",
              "}\n",
              "\n",
              "/* Estimator-specific */\n",
              "#sk-container-id-1 div.sk-estimator {\n",
              "  font-family: monospace;\n",
              "  border: 1px dotted var(--sklearn-color-border-box);\n",
              "  border-radius: 0.25em;\n",
              "  box-sizing: border-box;\n",
              "  margin-bottom: 0.5em;\n",
              "  /* unfitted */\n",
              "  background-color: var(--sklearn-color-unfitted-level-0);\n",
              "}\n",
              "\n",
              "#sk-container-id-1 div.sk-estimator.fitted {\n",
              "  /* fitted */\n",
              "  background-color: var(--sklearn-color-fitted-level-0);\n",
              "}\n",
              "\n",
              "/* on hover */\n",
              "#sk-container-id-1 div.sk-estimator:hover {\n",
              "  /* unfitted */\n",
              "  background-color: var(--sklearn-color-unfitted-level-2);\n",
              "}\n",
              "\n",
              "#sk-container-id-1 div.sk-estimator.fitted:hover {\n",
              "  /* fitted */\n",
              "  background-color: var(--sklearn-color-fitted-level-2);\n",
              "}\n",
              "\n",
              "/* Specification for estimator info (e.g. \"i\" and \"?\") */\n",
              "\n",
              "/* Common style for \"i\" and \"?\" */\n",
              "\n",
              ".sk-estimator-doc-link,\n",
              "a:link.sk-estimator-doc-link,\n",
              "a:visited.sk-estimator-doc-link {\n",
              "  float: right;\n",
              "  font-size: smaller;\n",
              "  line-height: 1em;\n",
              "  font-family: monospace;\n",
              "  background-color: var(--sklearn-color-background);\n",
              "  border-radius: 1em;\n",
              "  height: 1em;\n",
              "  width: 1em;\n",
              "  text-decoration: none !important;\n",
              "  margin-left: 0.5em;\n",
              "  text-align: center;\n",
              "  /* unfitted */\n",
              "  border: var(--sklearn-color-unfitted-level-1) 1pt solid;\n",
              "  color: var(--sklearn-color-unfitted-level-1);\n",
              "}\n",
              "\n",
              ".sk-estimator-doc-link.fitted,\n",
              "a:link.sk-estimator-doc-link.fitted,\n",
              "a:visited.sk-estimator-doc-link.fitted {\n",
              "  /* fitted */\n",
              "  border: var(--sklearn-color-fitted-level-1) 1pt solid;\n",
              "  color: var(--sklearn-color-fitted-level-1);\n",
              "}\n",
              "\n",
              "/* On hover */\n",
              "div.sk-estimator:hover .sk-estimator-doc-link:hover,\n",
              ".sk-estimator-doc-link:hover,\n",
              "div.sk-label-container:hover .sk-estimator-doc-link:hover,\n",
              ".sk-estimator-doc-link:hover {\n",
              "  /* unfitted */\n",
              "  background-color: var(--sklearn-color-unfitted-level-3);\n",
              "  color: var(--sklearn-color-background);\n",
              "  text-decoration: none;\n",
              "}\n",
              "\n",
              "div.sk-estimator.fitted:hover .sk-estimator-doc-link.fitted:hover,\n",
              ".sk-estimator-doc-link.fitted:hover,\n",
              "div.sk-label-container:hover .sk-estimator-doc-link.fitted:hover,\n",
              ".sk-estimator-doc-link.fitted:hover {\n",
              "  /* fitted */\n",
              "  background-color: var(--sklearn-color-fitted-level-3);\n",
              "  color: var(--sklearn-color-background);\n",
              "  text-decoration: none;\n",
              "}\n",
              "\n",
              "/* Span, style for the box shown on hovering the info icon */\n",
              ".sk-estimator-doc-link span {\n",
              "  display: none;\n",
              "  z-index: 9999;\n",
              "  position: relative;\n",
              "  font-weight: normal;\n",
              "  right: .2ex;\n",
              "  padding: .5ex;\n",
              "  margin: .5ex;\n",
              "  width: min-content;\n",
              "  min-width: 20ex;\n",
              "  max-width: 50ex;\n",
              "  color: var(--sklearn-color-text);\n",
              "  box-shadow: 2pt 2pt 4pt #999;\n",
              "  /* unfitted */\n",
              "  background: var(--sklearn-color-unfitted-level-0);\n",
              "  border: .5pt solid var(--sklearn-color-unfitted-level-3);\n",
              "}\n",
              "\n",
              ".sk-estimator-doc-link.fitted span {\n",
              "  /* fitted */\n",
              "  background: var(--sklearn-color-fitted-level-0);\n",
              "  border: var(--sklearn-color-fitted-level-3);\n",
              "}\n",
              "\n",
              ".sk-estimator-doc-link:hover span {\n",
              "  display: block;\n",
              "}\n",
              "\n",
              "/* \"?\"-specific style due to the `<a>` HTML tag */\n",
              "\n",
              "#sk-container-id-1 a.estimator_doc_link {\n",
              "  float: right;\n",
              "  font-size: 1rem;\n",
              "  line-height: 1em;\n",
              "  font-family: monospace;\n",
              "  background-color: var(--sklearn-color-background);\n",
              "  border-radius: 1rem;\n",
              "  height: 1rem;\n",
              "  width: 1rem;\n",
              "  text-decoration: none;\n",
              "  /* unfitted */\n",
              "  color: var(--sklearn-color-unfitted-level-1);\n",
              "  border: var(--sklearn-color-unfitted-level-1) 1pt solid;\n",
              "}\n",
              "\n",
              "#sk-container-id-1 a.estimator_doc_link.fitted {\n",
              "  /* fitted */\n",
              "  border: var(--sklearn-color-fitted-level-1) 1pt solid;\n",
              "  color: var(--sklearn-color-fitted-level-1);\n",
              "}\n",
              "\n",
              "/* On hover */\n",
              "#sk-container-id-1 a.estimator_doc_link:hover {\n",
              "  /* unfitted */\n",
              "  background-color: var(--sklearn-color-unfitted-level-3);\n",
              "  color: var(--sklearn-color-background);\n",
              "  text-decoration: none;\n",
              "}\n",
              "\n",
              "#sk-container-id-1 a.estimator_doc_link.fitted:hover {\n",
              "  /* fitted */\n",
              "  background-color: var(--sklearn-color-fitted-level-3);\n",
              "}\n",
              "</style><div id=\"sk-container-id-1\" class=\"sk-top-container\"><div class=\"sk-text-repr-fallback\"><pre>RandomForestClassifier(random_state=42)</pre><b>In a Jupyter environment, please rerun this cell to show the HTML representation or trust the notebook. <br />On GitHub, the HTML representation is unable to render, please try loading this page with nbviewer.org.</b></div><div class=\"sk-container\" hidden><div class=\"sk-item\"><div class=\"sk-estimator fitted sk-toggleable\"><input class=\"sk-toggleable__control sk-hidden--visually\" id=\"sk-estimator-id-1\" type=\"checkbox\" checked><label for=\"sk-estimator-id-1\" class=\"sk-toggleable__label fitted sk-toggleable__label-arrow\"><div><div>RandomForestClassifier</div></div><div><a class=\"sk-estimator-doc-link fitted\" rel=\"noreferrer\" target=\"_blank\" href=\"https://scikit-learn.org/1.6/modules/generated/sklearn.ensemble.RandomForestClassifier.html\">?<span>Documentation for RandomForestClassifier</span></a><span class=\"sk-estimator-doc-link fitted\">i<span>Fitted</span></span></div></label><div class=\"sk-toggleable__content fitted\"><pre>RandomForestClassifier(random_state=42)</pre></div> </div></div></div></div>"
            ]
          },
          "metadata": {},
          "execution_count": 10
        }
      ]
    },
    {
      "cell_type": "markdown",
      "source": [
        "### Train the Model\n",
        "- **Objective**: Fit the Random Forest Classifier to the training data.\n",
        "- **Steps**:\n",
        "  - Use the `fit()` method to train the model on `X_train` (features) and `y_train` (target).\n",
        "  - The trained model will learn patterns and relationships in the data to predict delays effectively.\n"
      ],
      "metadata": {
        "id": "ig9yY0-KHIk5"
      }
    },
    {
      "cell_type": "code",
      "source": [
        "# Predict on test data\n",
        "y_pred = rf_model.predict(X_test)\n",
        "rf_model.predict([[14,269,253,135,3,-2.833092,1.038237]])\n"
      ],
      "metadata": {
        "colab": {
          "base_uri": "https://localhost:8080/"
        },
        "id": "xE9CJBFhptLq",
        "outputId": "f7967529-4c84-451b-bb20-d22823260f13"
      },
      "execution_count": null,
      "outputs": [
        {
          "output_type": "stream",
          "name": "stderr",
          "text": [
            "/usr/local/lib/python3.10/dist-packages/sklearn/utils/validation.py:2739: UserWarning: X does not have valid feature names, but RandomForestClassifier was fitted with feature names\n",
            "  warnings.warn(\n"
          ]
        },
        {
          "output_type": "execute_result",
          "data": {
            "text/plain": [
              "array([1])"
            ]
          },
          "metadata": {},
          "execution_count": 21
        }
      ]
    },
    {
      "cell_type": "markdown",
      "source": [
        "**Inference from Classification Report and Confusion Matrix**\n",
        "1. **Classification Report**\n",
        "\n",
        "*   **Precision**: For class 0 (No Delay), precision is 0.66, meaning 66% of flights predicted as \"No Delay\" are correctly classified.\n",
        "For class 1 (Delay), precision is 0.58, indicating 58% of flights predicted as \"Delayed\" are correctly classified.\n",
        "*   **Recall**: For class 0, recall is 0.67, meaning 67% of actual \"No Delay\" flights are correctly identified.\n",
        "For class 1, recall is 0.56, meaning 56% of actual \"Delayed\" flights are correctly identified.\n",
        "\n",
        "*  **F1-Score**: The F1-score is 0.66 for \"No Delay\" and 0.57 for \"Delayed,\" showing slightly better performance for non-delayed flights.\n",
        "The overall weighted F1-score is 0.62, indicating moderate performance.\n",
        "\n",
        "*  **Accuracy**: The model's overall accuracy is 62%, meaning 62% of the predictions (both \"No Delay\" and \"Delayed\") are correct.\n",
        "\n",
        "2. **Confusion Matrix**\n",
        "\n",
        "* **True Positives (TP):** 26,875\n",
        "  Flights correctly predicted as \"Delayed.\"\n",
        "\n",
        "* **True Negatives (TN):** 40,127\n",
        "Flights correctly predicted as \"No Delay.\"\n",
        "\n",
        "* **False Positives (FP):** 19,752\n",
        "Flights incorrectly predicted as \"Delayed\" when they were actually \"No Delay.\"\n",
        "\n",
        "* **False Negatives (FN):** 21,123\n",
        "Flights incorrectly predicted as \"No Delay\" when they were actually \"Delayed.\"\n",
        "\n",
        "\n",
        "\n",
        "3. **Key Observations**\n",
        "The model performs slightly better for identifying flights with \"No Delay\" (class 0) compared to \"Delayed\" flights (class 1).\n",
        "A significant number of False Negatives (21,123) and False Positives (19,752) suggest room for improvement, especially in distinguishing between delayed and non-delayed flights.\n",
        "\n",
        "\n"
      ],
      "metadata": {
        "id": "o1ju8Al1HuGw"
      }
    },
    {
      "cell_type": "code",
      "source": [
        "# Classification report\n",
        "print(classification_report(y_test, y_pred))\n",
        "\n",
        "# Confusion matrix\n",
        "conf_matrix = confusion_matrix(y_test, y_pred)\n",
        "sns.heatmap(conf_matrix, annot=True, fmt='d', cmap='Blues')\n",
        "plt.title('Confusion Matrix')\n",
        "plt.show()\n"
      ],
      "metadata": {
        "colab": {
          "base_uri": "https://localhost:8080/",
          "height": 608
        },
        "id": "uladAGLts62O",
        "outputId": "32c924cd-b699-4b2e-925d-2048c7784dc5"
      },
      "execution_count": null,
      "outputs": [
        {
          "output_type": "stream",
          "name": "stdout",
          "text": [
            "              precision    recall  f1-score   support\n",
            "\n",
            "           0       0.66      0.67      0.66     59879\n",
            "           1       0.58      0.56      0.57     47998\n",
            "\n",
            "    accuracy                           0.62    107877\n",
            "   macro avg       0.62      0.62      0.62    107877\n",
            "weighted avg       0.62      0.62      0.62    107877\n",
            "\n"
          ]
        },
        {
          "output_type": "display_data",
          "data": {
            "text/plain": [
              "<Figure size 640x480 with 2 Axes>"
            ],
            "image/png": "[encoded data removed]"
          },
          "metadata": {}
        }
      ]
    },
    {
      "cell_type": "markdown",
      "source": [
        "### Import Logistic Regression\n",
        "- **Objective**: Use a Logistic Regression model for predicting flight delays.\n",
        "- **Why Logistic Regression?**\n",
        "  - It is a widely used baseline model for classification problems.\n",
        "  - Logistic Regression predicts the probability of a binary outcome (e.g., \"Delay\" vs. \"No Delay\").\n",
        "- **Implementation**:\n",
        "  - `LogisticRegression` is imported from `sklearn.linear_model`.\n",
        "  - `max_iter=500`: Specifies the maximum number of iterations for the solver to converge. Increasing it ensures convergence for larger datasets.\n"
      ],
      "metadata": {
        "id": "0NTasWljKQsc"
      }
    },
    {
      "cell_type": "code",
      "source": [
        "from sklearn.linear_model import LogisticRegression\n",
        "\n",
        "log_model = LogisticRegression(max_iter=500)"
      ],
      "metadata": {
        "id": "IVFYS2T503_S"
      },
      "execution_count": null,
      "outputs": []
    },
    {
      "cell_type": "markdown",
      "source": [
        "### Predict on Test Data\n",
        "- **Objective**: Use the trained logistic regression model to predict flight delays for the test dataset.\n",
        "- **Steps**:\n",
        "  - Use the `predict()` method on `X_test` to generate predictions.\n",
        "  - The output (`y_pred_log`) contains predicted classes (`0` for No Delay, `1` for Delay).\n"
      ],
      "metadata": {
        "id": "MiXnXmmmKUYC"
      }
    },
    {
      "cell_type": "code",
      "source": [
        "log_model.fit(X_train, y_train)\n",
        "\n",
        "# Predict on test data\n",
        "y_pred_log = log_model.predict(X_test)\n"
      ],
      "metadata": {
        "id": "k4Crm1891Bgb"
      },
      "execution_count": null,
      "outputs": []
    },
    {
      "cell_type": "markdown",
      "source": [
        "**Inference from Classification Report and Confusion Matrix(Logistic Regression)**\n",
        "\n",
        "1. **Classification Report**\n",
        "* **Precision:**\n",
        "Class 0 (No Delay): Precision is 0.60, meaning 60% of flights predicted as \"No Delay\" are correct.\n",
        "Class 1 (Delay): Precision is 0.55, meaning 55% of flights predicted as \"Delayed\" are correct.\n",
        "\n",
        "* **Recall:**\n",
        "Class 0 (No Delay): Recall is 0.76, meaning 76% of actual \"No Delay\" flights are correctly identified.\n",
        "Class 1 (Delay): Recall is 0.36, meaning only 36% of actual \"Delayed\" flights are correctly identified.\n",
        "\n",
        "* **F1-Score:**\n",
        "The F1-score for \"No Delay\" is 0.67, higher than for \"Delayed,\" which is 0.44.\n",
        "This indicates the model performs better at predicting non-delayed flights.\n",
        "\n",
        "* **Accuracy:**\n",
        "Overall accuracy is 59%, meaning the model correctly predicts the delay status for 59% of the flights.\n",
        "\n",
        "* **Macro Average:**\n",
        "The macro average F1-score is 0.55, showing balanced performance across both classes.\n",
        "\n",
        "* **Weighted Average:**\n",
        "The weighted F1-score is 0.57, accounting for the class imbalance in the dataset.\n",
        "\n",
        "\n",
        "2. **Confusion Matrix**\n",
        "* **True Positives (TP)**: 17,343\n",
        "Flights correctly predicted as \"Delayed.\"\n",
        "\n",
        "* **True Negatives (TN):** 45,786\n",
        "Flights correctly predicted as \"No Delay.\"\n",
        "\n",
        "* **False Positives (FP):** 14,093\n",
        "Flights incorrectly predicted as \"Delayed\" but were actually \"No Delay.\"\n",
        "\n",
        "* **False Negatives (FN):** 30,655\n",
        "Flights incorrectly predicted as \"No Delay\" but were actually \"Delayed.\"\n",
        "\n",
        "\n",
        "3. **Key Observations**\n",
        "* The model performs significantly better for classifying \"No Delay\" flights (class 0) compared to \"Delayed\" flights (class 1).\n",
        "* A high number of false negatives (30,655) indicates the model often fails to identify flights that are delayed, which can be problematic in real-world scenarios.\n",
        "* The overall recall for delayed flights is low (0.36), suggesting the need for improvement in capturing true delays."
      ],
      "metadata": {
        "id": "M7M32wa4KtPz"
      }
    },
    {
      "cell_type": "code",
      "source": [
        "print(\"Logistic Regression - Classification Report\")\n",
        "print(classification_report(y_test, y_pred_log))\n",
        "\n",
        "# Confusion Matrix\n",
        "conf_matrix_log = confusion_matrix(y_test, y_pred_log)\n",
        "plt.figure(figsize=(6, 4))\n",
        "sns.heatmap(conf_matrix_log, annot=True, fmt='d', cmap='Blues')\n",
        "plt.title(\"Logistic Regression - Confusion Matrix\")\n",
        "plt.xlabel(\"Predicted\")\n",
        "plt.ylabel(\"Actual\")\n",
        "plt.show()"
      ],
      "metadata": {
        "colab": {
          "base_uri": "https://localhost:8080/",
          "height": 584
        },
        "id": "VSulCABv1Z7s",
        "outputId": "bd0af149-f908-4b52-faae-3d1e04d08d8a"
      },
      "execution_count": null,
      "outputs": [
        {
          "output_type": "stream",
          "name": "stdout",
          "text": [
            "Logistic Regression - Classification Report\n",
            "              precision    recall  f1-score   support\n",
            "\n",
            "           0       0.60      0.76      0.67     59879\n",
            "           1       0.55      0.36      0.44     47998\n",
            "\n",
            "    accuracy                           0.59    107877\n",
            "   macro avg       0.58      0.56      0.55    107877\n",
            "weighted avg       0.58      0.59      0.57    107877\n",
            "\n"
          ]
        },
        {
          "output_type": "display_data",
          "data": {
            "text/plain": [
              "<Figure size 600x400 with 2 Axes>"
            ],
            "image/png": "[encoded data removed]"
          },
          "metadata": {}
        }
      ]
    },
    {
      "cell_type": "markdown",
      "source": [
        "1. **Classification Report**\n",
        "* **Precision**:\n",
        "Class 0 (No Delay): Precision is 0.64, meaning 64% of flights predicted as \"No Delay\" are correct.\n",
        "Class 1 (Delay): Precision is 0.67, meaning 67% of flights predicted as \"Delayed\" are correct.\n",
        "\n",
        "* **Recall**:\n",
        "Class 0 (No Delay): Recall is 0.84, meaning 84% of actual \"No Delay\" flights are correctly identified.\n",
        "Class 1 (Delay): Recall is 0.41, meaning 41% of actual \"Delayed\" flights are correctly identified.\n",
        "\n",
        "* **F1-Score**:\n",
        "Class 0 (No Delay): F1-score is 0.73, showing better performance in identifying non-delayed flights.\n",
        "Class 1 (Delay): F1-score is 0.51, indicating moderate performance in predicting delays.\n",
        "\n",
        "* **Accuracy:**\n",
        "The overall accuracy is 65%, meaning the model correctly predicts delay status for 65% of the flights.\n",
        "\n",
        "* **Macro Average:**\n",
        "The macro average F1-score is 0.62, indicating balanced performance across both classes.\n",
        "\n",
        "* **Weighted Average:**\n",
        "The weighted F1-score is 0.63, accounting for the imbalance in the dataset.\n",
        "\n",
        "2. **Confusion Matrix**\n",
        "* **True Positives (TP):** 19,551\n",
        "Flights correctly predicted as \"Delayed.\"\n",
        "\n",
        "* **True Negatives (TN):** 50,428\n",
        "Flights correctly predicted as \"No Delay.\"\n",
        "\n",
        "* **False Positives (FP):** 9,451\n",
        "Flights incorrectly predicted as \"Delayed\" but were actually \"No Delay.\"\n",
        "\n",
        "* **False Negatives (FN):** 28,447\n",
        "Flights incorrectly predicted as \"No Delay\" but were actually \"Delayed.\"\n",
        "\n",
        "3. **Key Observations**\n",
        "* The model performs well for classifying \"No Delay\" flights (class 0) with high recall (0.84) and a strong F1-score (0.73).\n",
        "* However, it struggles to identify delayed flights (class 1) with lower recall (0.41) and a moderate F1-score (0.51).\n",
        "* False Negatives (28,447) remain a significant challenge, indicating the model often misses predicting actual delays.\n"
      ],
      "metadata": {
        "id": "Y3PkEPAxMiB2"
      }
    },
    {
      "cell_type": "code",
      "source": [
        "from sklearn.ensemble import GradientBoostingClassifier\n",
        "\n",
        "# Initialize the model\n",
        "gb_model = GradientBoostingClassifier(random_state=42)\n",
        "\n",
        "# Train the model\n",
        "gb_model.fit(X_train, y_train)\n",
        "\n",
        "# Predict on test data\n",
        "y_pred_gb = gb_model.predict(X_test)\n",
        "\n",
        "# Classification Report\n",
        "print(\"Gradient Boosting - Classification Report\")\n",
        "print(classification_report(y_test, y_pred_gb))\n",
        "\n",
        "# Confusion Matrix\n",
        "conf_matrix_gb = confusion_matrix(y_test, y_pred_gb)\n",
        "plt.figure(figsize=(6, 4))\n",
        "sns.heatmap(conf_matrix_gb, annot=True, fmt='d', cmap='Blues')\n",
        "plt.title(\"Gradient Boosting - Confusion Matrix\")\n",
        "plt.xlabel(\"Predicted\")\n",
        "plt.ylabel(\"Actual\")\n",
        "plt.show()\n"
      ],
      "metadata": {
        "colab": {
          "base_uri": "https://localhost:8080/",
          "height": 584
        },
        "id": "b-_6kpzB1e7u",
        "outputId": "2097a8f5-9a2b-418d-b990-cdd709629c0f"
      },
      "execution_count": null,
      "outputs": [
        {
          "output_type": "stream",
          "name": "stdout",
          "text": [
            "Gradient Boosting - Classification Report\n",
            "              precision    recall  f1-score   support\n",
            "\n",
            "           0       0.64      0.84      0.73     59879\n",
            "           1       0.67      0.41      0.51     47998\n",
            "\n",
            "    accuracy                           0.65    107877\n",
            "   macro avg       0.66      0.62      0.62    107877\n",
            "weighted avg       0.65      0.65      0.63    107877\n",
            "\n"
          ]
        },
        {
          "output_type": "display_data",
          "data": {
            "text/plain": [
              "<Figure size 600x400 with 2 Axes>"
            ],
            "image/png": "[encoded data removed]"
          },
          "metadata": {}
        }
      ]
    },
    {
      "cell_type": "markdown",
      "source": [
        "1. **Classification Report**\n",
        "* **Precision:**\n",
        "Class 0 (No Delay): Precision is 0.67, meaning 67% of flights predicted as \"No Delay\" are correct.\n",
        "Class 1 (Delay): Precision is 0.66, meaning 66% of flights predicted as \"Delayed\" are correct.\n",
        "\n",
        "* **Recall:**\n",
        "Class 0 (No Delay): Recall is 0.80, meaning 80% of actual \"No Delay\" flights are correctly identified.\n",
        "Class 1 (Delay): Recall is 0.50, meaning 50% of actual \"Delayed\" flights are correctly identified.\n",
        "\n",
        "* **F1-Score:**\n",
        "Class 0 (No Delay): F1-score is 0.73, showing strong performance in identifying non-delayed flights.\n",
        "Class 1 (Delay): F1-score is 0.57, indicating moderate performance for predicting delays.\n",
        "\n",
        "* **Accuracy:**\n",
        "The overall accuracy is 67%, meaning the model correctly predicts the delay status for 67% of flights.\n",
        "\n",
        "* **Macro Average:**\n",
        "The macro average F1-score is 0.65, indicating balanced performance across both classes.\n",
        "\n",
        "* **Weighted Average:**\n",
        "The weighted F1-score is 0.66, accounting for the imbalance in the dataset.\n",
        "\n",
        "2. **Confusion Matrix**\n",
        "* **True Positives (TP):** 24,151\n",
        "Flights correctly predicted as \"Delayed.\"\n",
        "\n",
        "* **True Negatives (TN):** 47,675\n",
        "Flights correctly predicted as \"No Delay.\"\n",
        "\n",
        "* **False Positives (FP):** 12,204\n",
        "Flights incorrectly predicted as \"Delayed\" but were actually \"No Delay.\"\n",
        "\n",
        "* **False Negatives (FN):** 23,847\n",
        "Flights incorrectly predicted as \"No Delay\" but were actually \"Delayed.\"\n",
        "\n",
        "\n",
        "3. **Key Observations**\n",
        "* Class 0 (No Delay):\n",
        "High recall (0.80) and F1-score (0.73) indicate that the model performs well in identifying non-delayed flights.\n",
        "\n",
        "* Class 1 (Delay):\n",
        "Recall for delayed flights is moderate (0.50), meaning half of the actual delays are identified correctly.\n",
        "The model still struggles with false negatives (23,847), where delayed flights are classified as non-delayed.\n",
        "\n",
        "* Overall Performance:\n",
        "XGBoost achieves the highest accuracy (67%) among the models tested so far, with relatively balanced precision and recall across both classes.\n",
        "\n"
      ],
      "metadata": {
        "id": "WhP6lftTNo4q"
      }
    },
    {
      "cell_type": "code",
      "source": [
        "from xgboost import XGBClassifier\n",
        "\n",
        "# Initialize the model\n",
        "xgb_model = XGBClassifier(use_label_encoder=False, eval_metric='logloss', random_state=42)\n",
        "\n",
        "# Train the model\n",
        "xgb_model.fit(X_train, y_train)\n",
        "\n",
        "# Predict on test data\n",
        "y_pred_xgb = xgb_model.predict(X_test)\n",
        "\n",
        "# Classification Report\n",
        "print(\"XGBoost - Classification Report\")\n",
        "print(classification_report(y_test, y_pred_xgb))\n",
        "\n",
        "# Confusion Matrix\n",
        "conf_matrix_xgb = confusion_matrix(y_test, y_pred_xgb)\n",
        "plt.figure(figsize=(6, 4))\n",
        "sns.heatmap(conf_matrix_xgb, annot=True, fmt='d', cmap='Blues')\n",
        "plt.title(\"XGBoost - Confusion Matrix\")\n",
        "plt.xlabel(\"Predicted\")\n",
        "plt.ylabel(\"Actual\")\n",
        "plt.show()\n"
      ],
      "metadata": {
        "colab": {
          "base_uri": "https://localhost:8080/",
          "height": 653
        },
        "id": "uz_6e7-M9DR_",
        "outputId": "f0db79c5-cc10-4925-a96e-e253e43d39b4"
      },
      "execution_count": null,
      "outputs": [
        {
          "output_type": "stream",
          "name": "stderr",
          "text": [
            "/usr/local/lib/python3.10/dist-packages/xgboost/core.py:158: UserWarning: [09:16:33] WARNING: /workspace/src/learner.cc:740: \n",
            "Parameters: { \"use_label_encoder\" } are not used.\n",
            "\n",
            "  warnings.warn(smsg, UserWarning)\n"
          ]
        },
        {
          "output_type": "stream",
          "name": "stdout",
          "text": [
            "XGBoost - Classification Report\n",
            "              precision    recall  f1-score   support\n",
            "\n",
            "           0       0.67      0.80      0.73     59879\n",
            "           1       0.66      0.50      0.57     47998\n",
            "\n",
            "    accuracy                           0.67    107877\n",
            "   macro avg       0.67      0.65      0.65    107877\n",
            "weighted avg       0.67      0.67      0.66    107877\n",
            "\n"
          ]
        },
        {
          "output_type": "display_data",
          "data": {
            "text/plain": [
              "<Figure size 600x400 with 2 Axes>"
            ],
            "image/png": "[encoded data removed]"
          },
          "metadata": {}
        }
      ]
    },
    {
      "cell_type": "markdown",
      "source": [
        "### **CONCLUSION:**"
      ],
      "metadata": {
        "id": "ghYqlfuDPOBx"
      }
    },
    {
      "cell_type": "markdown",
      "source": [
        "1. **Comparison of Models**\n",
        "* **Logistic Regression:**\n",
        "\n",
        "1. Accuracy: 59%\n",
        "2. Precision (Class 1 - Delayed): 0.55\n",
        "3. Recall (Class 1 - Delayed): 0.36\n",
        "4. F1-Score (Class 1 - Delayed): 0.44\n",
        "5. Key Observation: Baseline model with limited ability to identify delayed flights effectively.\n",
        "\n",
        "\n",
        "* **Gradient Boosting:**\n",
        "\n",
        "1. Accuracy: 65%\n",
        "2. Precision (Class 1 - Delayed): 0.67\n",
        "3. Recall (Class 1 - Delayed): 0.41\n",
        "4. F1-Score (Class 1 - Delayed): 0.51\n",
        "5. Key Observation: Improved accuracy over Logistic Regression, but still moderate recall for delays.\n",
        "\n",
        "* **XGBoost:**\n",
        "\n",
        "1. Accuracy: 67%\n",
        "2. Precision (Class 1 - Delayed): 0.66\n",
        "3. Recall (Class 1 - Delayed): 0.50\n",
        "4. F1-Score (Class 1 - Delayed): 0.57\n",
        "5. Key Observation: Best performance overall, with the highest accuracy and relatively balanced precision and recall.\n",
        "\n",
        "* **Best Model: XGBoost**\n",
        "\n",
        "  Why?\n",
        "Highest accuracy (67%).\n",
        "Balanced precision and recall for both delayed and non-delayed flights.\n",
        "Robust performance compared to other models.\n",
        "\n",
        "2. **Why is Accuracy Low?**\n",
        "* Class Imbalance:\n",
        "The dataset is imbalanced, with more \"No Delay\" flights compared to \"Delayed\" flights. This causes models to perform better for the majority class (No Delay) while struggling with the minority class (Delay).\n",
        "\n",
        "* Limited Features:\n",
        "The dataset includes only basic features like airline, airport, flight length, and time. Other critical factors influencing delays, such as:\n",
        "Weather conditions (e.g., storms, snow).\n",
        "Airport traffic (e.g., congestion at departure/arrival airports).\n",
        "Day of the week or seasonal trends. These features, if included, could significantly improve predictive performance.\n",
        "\n",
        "* Complexity of Delays:\n",
        "Flight delays are influenced by a mix of operational, environmental, and regulatory factors that are not fully captured in the available data.\n",
        "False Negatives:\n",
        "\n",
        "* A considerable number of false negatives (actual delayed flights predicted as non-delayed) lowers the model's overall recall and F1-score for delayed flights.\n",
        "\n",
        "3. **Future Scope**\n",
        "* **Feature Engineering:**\n",
        "Incorporate additional features such as:\n",
        "1. Weather data: Rain, snow, wind, or thunderstorms at departure and arrival airports.\n",
        "2. Airport traffic data: Real-time or historical congestion levels.\n",
        "Seasonal effects: Holidays and peak travel times.\n",
        "\n",
        "* **Data Collection:**\n",
        "1. Gather external datasets (e.g., FAA reports, real-time traffic data) to capture a more comprehensive view of delay causes.\n",
        "\n",
        "* **Model Optimization:**\n",
        "1. Perform advanced hyperparameter tuning using techniques like Grid Search or Bayesian Optimization for XGBoost or Gradient Boosting.\n",
        "2. Experiment with ensemble methods or stacking models to combine the strengths of multiple algorithms.\n",
        "\n",
        "* **Class Imbalance Handling:**\n",
        "\n",
        " Use techniques such as:\n",
        " 1. **SMOTE**: Oversample the minority class (delays).\n",
        " 2. **Class weighting**: Penalize misclassification of delays during model training.\n",
        "Threshold Adjustment:\n",
        "\n",
        "  Adjust the classification threshold for delayed flights to reduce false negatives, especially if the goal is to prioritize identifying delays.\n",
        "\n",
        "* **Real-Time Deployment:**\n",
        "\n",
        " Deploy the model for real-time predictions using APIs or web applications.\n",
        "Integrate the model with flight management systems to provide actionable insights for airlines and passengers."
      ],
      "metadata": {
        "id": "aFOMm8PJR4v7"
      }
    }
  ]
}